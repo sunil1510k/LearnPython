{
 "cells": [
  {
   "cell_type": "code",
   "execution_count": 1,
   "id": "65fa3c20",
   "metadata": {},
   "outputs": [
    {
     "name": "stdout",
     "output_type": "stream",
     "text": [
      "Write the Number for which Factorial needs to be Found : -5\n",
      "Factorial of -5 = 1\n"
     ]
    }
   ],
   "source": [
    "### Without USing Function\n",
    "\n",
    "num = int( input(\"Write the Number for which Factorial needs to be Found : \") )\n",
    "fact = 1\n",
    "for i in range( num , 0, -1 ) : \n",
    "    fact = fact * i\n",
    "\n",
    "print(f\"Factorial of {num} = {fact}\")  \n"
   ]
  },
  {
   "cell_type": "markdown",
   "id": "2aea775e",
   "metadata": {},
   "source": [
    "### Way1"
   ]
  },
  {
   "cell_type": "code",
   "execution_count": 2,
   "id": "21001ae2",
   "metadata": {},
   "outputs": [
    {
     "name": "stdout",
     "output_type": "stream",
     "text": [
      "Write the Number for which Factorial needs to be Found : 10\n",
      "Factorial of 10 = 3628800\n"
     ]
    }
   ],
   "source": [
    "## Find out the Factorial of the Number.\n",
    "\n",
    "\n",
    "def findFactorial(num) :            ## num is written for reference : Formal Argument\n",
    "    fact = 1\n",
    "    for i in range( num , 0, -1 ) : \n",
    "        fact = fact * i\n",
    "        \n",
    "    return fact\n",
    "\n",
    "num = int( input(\"Write the Number for which Factorial needs to be Found : \") )\n",
    "print(f\"Factorial of {num} = {findFactorial(num)}\")  # num is the real value on which Function will be executed. Actual Argument\n"
   ]
  },
  {
   "cell_type": "markdown",
   "id": "dc13de81",
   "metadata": {},
   "source": [
    "### Way2"
   ]
  },
  {
   "cell_type": "code",
   "execution_count": 3,
   "id": "4b26629c",
   "metadata": {},
   "outputs": [
    {
     "name": "stdout",
     "output_type": "stream",
     "text": [
      "Write the Number for which Factorial needs to be Found : 10\n",
      "Factorial of 10 = 3628800\n"
     ]
    }
   ],
   "source": [
    "## Find out the Factorial of the Number.\n",
    "\n",
    "\n",
    "def findFactorial(x) :            ## x is written for reference : Formal Argument\n",
    "    fact = 1\n",
    "    for i in range( x , 0, -1 ) : \n",
    "        fact = fact * i\n",
    "        \n",
    "    return fact\n",
    "\n",
    "num = int( input(\"Write the Number for which Factorial needs to be Found : \") )\n",
    "print(f\"Factorial of {num} = {findFactorial(num)}\")  # num is the real value on which Function will be executed. Actual Argument\n"
   ]
  },
  {
   "cell_type": "markdown",
   "id": "236306ba",
   "metadata": {},
   "source": [
    "### Way3"
   ]
  },
  {
   "cell_type": "code",
   "execution_count": null,
   "id": "e68b907a",
   "metadata": {},
   "outputs": [],
   "source": [
    "## Find out the Factorial of the Number.\n",
    "\n",
    "\n",
    "def findFactorial() :            \n",
    "    num = int( input(\"Write the Number for which Factorial needs to be Found : \") )\n",
    "    fact = 1\n",
    "    for i in range( num , 0, -1 ) : \n",
    "        fact = fact * i\n",
    "        \n",
    "    return fact\n",
    "\n",
    "print(f\"Factorial of = {findFactorial()}\")   # Calling The Function \n",
    "\n",
    "f = findFactorial() # Calling The Function\n",
    "print(f ** 0.5)"
   ]
  },
  {
   "cell_type": "markdown",
   "id": "7c5e7903",
   "metadata": {},
   "source": [
    "### Way4"
   ]
  },
  {
   "cell_type": "code",
   "execution_count": null,
   "id": "2dd7643a",
   "metadata": {},
   "outputs": [],
   "source": [
    "## Find out the Factorial of the Number.\n",
    "\n",
    "\n",
    "def findFactorial() :            \n",
    "    num = int( input(\"Write the Number for which Factorial needs to be Found : \") )\n",
    "    fact = 1\n",
    "    for i in range( num , 0, -1 ) : \n",
    "        fact = fact * i\n",
    "        \n",
    "    print(f\"Factorial of {num} = {fact}\")  \n",
    "\n",
    "findFactorial()\n"
   ]
  },
  {
   "cell_type": "code",
   "execution_count": null,
   "id": "8d12c1a2",
   "metadata": {},
   "outputs": [],
   "source": []
  },
  {
   "cell_type": "code",
   "execution_count": null,
   "id": "e90a563b",
   "metadata": {},
   "outputs": [],
   "source": [
    "stringName = \"python\"\n",
    "\n",
    "stringName.count(\"\")\n"
   ]
  },
  {
   "cell_type": "code",
   "execution_count": null,
   "id": "f9729a2f",
   "metadata": {},
   "outputs": [],
   "source": [
    "listName = [4, -3]\n",
    "listName.pop()\n",
    "listName\n"
   ]
  },
  {
   "cell_type": "code",
   "execution_count": null,
   "id": "b431bb10",
   "metadata": {},
   "outputs": [],
   "source": [
    "### Docstring : \n",
    "# VERY FIRST Multiple line comment written inside the functions / Class in the FIRST LINE only"
   ]
  },
  {
   "cell_type": "code",
   "execution_count": null,
   "id": "dc8ee9bb",
   "metadata": {},
   "outputs": [],
   "source": [
    "## Find out the Factorial of the Number.\n",
    "\n",
    "\n",
    "def findFactorial(num) :            ## num is written for reference : Formal Argument\n",
    "    \"\"\" This function helps to find the factorial of a number \n",
    "    Example : \n",
    "    Number = 5\n",
    "    5! = 5 * 4 * 3 * 2 * 1 = 120\n",
    "    \n",
    "    Output = 120\n",
    "    \n",
    "    \"\"\"\n",
    "    \n",
    "    fact = 1\n",
    "    for i in range( num , 0, -1 ) : \n",
    "        fact = fact * i\n",
    "        \n",
    "    return fact"
   ]
  },
  {
   "cell_type": "code",
   "execution_count": null,
   "id": "882d96ea",
   "metadata": {},
   "outputs": [],
   "source": [
    "num = int( input(\"Write the Number for which Factorial needs to be Found : \") )\n",
    "print(f\"Factorial of {num} = {findFactorial(  num)}\")  # num is the real value on which Function will be executed. Actual Argument\n",
    "findFactorial(  num)"
   ]
  },
  {
   "cell_type": "code",
   "execution_count": null,
   "id": "522f9eac",
   "metadata": {},
   "outputs": [],
   "source": []
  },
  {
   "cell_type": "markdown",
   "id": "1118f63a",
   "metadata": {},
   "source": [
    "### Types of Arguments"
   ]
  },
  {
   "cell_type": "code",
   "execution_count": null,
   "id": "10634017",
   "metadata": {},
   "outputs": [],
   "source": [
    "#### 1. Positional Arguments\n",
    "# - reference is the Position"
   ]
  },
  {
   "cell_type": "code",
   "execution_count": null,
   "id": "662a3bf7",
   "metadata": {},
   "outputs": [],
   "source": [
    "def area_circle( r, p ) : \n",
    "    return p * r * r # Pie * r2"
   ]
  },
  {
   "cell_type": "code",
   "execution_count": null,
   "id": "994aada4",
   "metadata": {},
   "outputs": [],
   "source": [
    "print( area_circle( 10, 3.14 ) )\n",
    "print( area_circle( 3.14, 10 ) )"
   ]
  },
  {
   "cell_type": "code",
   "execution_count": null,
   "id": "67cf8fd9",
   "metadata": {},
   "outputs": [],
   "source": [
    "print( area_circle( 10 ) )"
   ]
  },
  {
   "cell_type": "code",
   "execution_count": null,
   "id": "55421f9f",
   "metadata": {},
   "outputs": [],
   "source": [
    "print( area_circle( 10, 3.14, 9999 ) )"
   ]
  },
  {
   "cell_type": "code",
   "execution_count": null,
   "id": "dafb4dc4",
   "metadata": {},
   "outputs": [],
   "source": []
  },
  {
   "cell_type": "code",
   "execution_count": null,
   "id": "49095431",
   "metadata": {},
   "outputs": [],
   "source": [
    "#### 2. Keyword Arguments\n",
    "# - reference is the Formal Arguments"
   ]
  },
  {
   "cell_type": "code",
   "execution_count": 16,
   "id": "360970b9",
   "metadata": {},
   "outputs": [],
   "source": [
    "def area_circle( r, p ) : \n",
    "    return p * r * r # Pie * r2"
   ]
  },
  {
   "cell_type": "code",
   "execution_count": null,
   "id": "65910993",
   "metadata": {},
   "outputs": [],
   "source": [
    "print( area_circle( r = 10, p = 3.14 ) )\n",
    "print( area_circle( p = 3.14, r = 10 ) )"
   ]
  },
  {
   "cell_type": "code",
   "execution_count": null,
   "id": "f0e23693",
   "metadata": {},
   "outputs": [],
   "source": [
    "print( area_circle( r = 10, p = 3.14 , 999) )"
   ]
  },
  {
   "cell_type": "code",
   "execution_count": 17,
   "id": "ff5c25c7",
   "metadata": {},
   "outputs": [
    {
     "data": {
      "text/plain": [
       "True"
      ]
     },
     "execution_count": 17,
     "metadata": {},
     "output_type": "execute_result"
    }
   ],
   "source": [
    "# \"area_circle\" in globals()"
   ]
  },
  {
   "cell_type": "code",
   "execution_count": null,
   "id": "efc330b9",
   "metadata": {},
   "outputs": [],
   "source": [
    "#### 3. Default Arguments\n",
    "# - reference is the Function Declaration itself"
   ]
  },
  {
   "cell_type": "code",
   "execution_count": null,
   "id": "07af4499",
   "metadata": {},
   "outputs": [],
   "source": [
    "def area_circle( r, p  = 22/7) : \n",
    "    return p * r * r # Pie * r2"
   ]
  },
  {
   "cell_type": "code",
   "execution_count": null,
   "id": "4417d4b6",
   "metadata": {},
   "outputs": [],
   "source": [
    "print( area_circle( r = 10, p = 3.14 ) ) # Taken on Priority\n",
    "print( area_circle( r = 10 ) )\n",
    "\n",
    "print( area_circle( r = 10, p = 3 ) ) # Taken on Priority\n"
   ]
  },
  {
   "cell_type": "code",
   "execution_count": null,
   "id": "22f1eba0",
   "metadata": {},
   "outputs": [],
   "source": []
  },
  {
   "cell_type": "code",
   "execution_count": null,
   "id": "5fd59729",
   "metadata": {},
   "outputs": [],
   "source": [
    "def area( r, p  ) : \n",
    "    return p * r * r # Pie * r2\n",
    "\n",
    "print(id(area))\n",
    "\n",
    "def area( l, b ) : \n",
    "    return l * b\n",
    "\n",
    "print(id(area))\n",
    "\n",
    "area(10, 20)"
   ]
  },
  {
   "cell_type": "code",
   "execution_count": null,
   "id": "016a7547",
   "metadata": {},
   "outputs": [],
   "source": [
    "x = 100\n",
    "x = 25.3\n",
    "\n",
    "print( x - 10 )"
   ]
  },
  {
   "cell_type": "code",
   "execution_count": null,
   "id": "de1b9676",
   "metadata": {},
   "outputs": [],
   "source": []
  },
  {
   "cell_type": "code",
   "execution_count": null,
   "id": "aba532f6",
   "metadata": {},
   "outputs": [],
   "source": [
    "place ???"
   ]
  },
  {
   "cell_type": "code",
   "execution_count": null,
   "id": "de161fb2",
   "metadata": {},
   "outputs": [],
   "source": [
    "### Environmental Variables \n",
    "# globals()  ## Everything that you have created so far in python will come out as KEY\n",
    "# locals()  ## Everything that you have created so far in FUNCTIONS python will come out as KEY\n",
    "\n",
    "# print( key in dictName ) # \n",
    "print( \"place\" in globals() )\n"
   ]
  },
  {
   "cell_type": "code",
   "execution_count": null,
   "id": "da394da6",
   "metadata": {},
   "outputs": [],
   "source": [
    "place = \"delhi\""
   ]
  },
  {
   "cell_type": "code",
   "execution_count": null,
   "id": "c8d45334",
   "metadata": {},
   "outputs": [],
   "source": [
    "globals()['place']"
   ]
  },
  {
   "cell_type": "code",
   "execution_count": 4,
   "id": "418b3ead",
   "metadata": {},
   "outputs": [
    {
     "data": {
      "text/plain": [
       "{'__name__': '__main__',\n",
       " '__doc__': 'Automatically created module for IPython interactive environment',\n",
       " '__package__': None,\n",
       " '__loader__': None,\n",
       " '__spec__': None,\n",
       " '__builtin__': <module 'builtins' (built-in)>,\n",
       " '__builtins__': <module 'builtins' (built-in)>,\n",
       " '_ih': ['',\n",
       "  'globals()',\n",
       "  '## Find out the Factorial of the Number.\\n\\n\\ndef findFactorial(num) :            ## num is written for reference : Formal Argument\\n    fact = 1\\n    for i in range( num , 0, -1 ) : \\n        fact = fact * i\\n        \\n    return fact\\n\\nnum = int( input(\"Write the Number for which Factorial needs to be Found : \") )\\nprint(f\"Factorial of {num} = {findFactorial(num)}\")  # num is the real value on which Function will be executed. Actual Argument',\n",
       "  '## Find out the Factorial of the Number.\\n\\n\\ndef findFactorial(x) :            ## x is written for reference : Formal Argument\\n    fact = 1\\n    for i in range( x , 0, -1 ) : \\n        fact = fact * i\\n        \\n    return fact\\n\\nnum = int( input(\"Write the Number for which Factorial needs to be Found : \") )\\nprint(f\"Factorial of {num} = {findFactorial(num)}\")  # num is the real value on which Function will be executed. Actual Argument',\n",
       "  'globals()'],\n",
       " '_oh': {1: {...}},\n",
       " '_dh': ['C:\\\\Users\\\\Nitish\\\\Desktop\\\\PP\\\\Batch Python, 07.02.23\\\\Day18 - 15.03.23'],\n",
       " 'In': ['',\n",
       "  'globals()',\n",
       "  '## Find out the Factorial of the Number.\\n\\n\\ndef findFactorial(num) :            ## num is written for reference : Formal Argument\\n    fact = 1\\n    for i in range( num , 0, -1 ) : \\n        fact = fact * i\\n        \\n    return fact\\n\\nnum = int( input(\"Write the Number for which Factorial needs to be Found : \") )\\nprint(f\"Factorial of {num} = {findFactorial(num)}\")  # num is the real value on which Function will be executed. Actual Argument',\n",
       "  '## Find out the Factorial of the Number.\\n\\n\\ndef findFactorial(x) :            ## x is written for reference : Formal Argument\\n    fact = 1\\n    for i in range( x , 0, -1 ) : \\n        fact = fact * i\\n        \\n    return fact\\n\\nnum = int( input(\"Write the Number for which Factorial needs to be Found : \") )\\nprint(f\"Factorial of {num} = {findFactorial(num)}\")  # num is the real value on which Function will be executed. Actual Argument',\n",
       "  'globals()'],\n",
       " 'Out': {1: {...}},\n",
       " 'get_ipython': <bound method InteractiveShell.get_ipython of <ipykernel.zmqshell.ZMQInteractiveShell object at 0x0000021B3A793490>>,\n",
       " 'exit': <IPython.core.autocall.ZMQExitAutocall at 0x21b3ab051c0>,\n",
       " 'quit': <IPython.core.autocall.ZMQExitAutocall at 0x21b3ab051c0>,\n",
       " '_': {...},\n",
       " '__': '',\n",
       " '___': '',\n",
       " '_i': '## Find out the Factorial of the Number.\\n\\n\\ndef findFactorial(x) :            ## x is written for reference : Formal Argument\\n    fact = 1\\n    for i in range( x , 0, -1 ) : \\n        fact = fact * i\\n        \\n    return fact\\n\\nnum = int( input(\"Write the Number for which Factorial needs to be Found : \") )\\nprint(f\"Factorial of {num} = {findFactorial(num)}\")  # num is the real value on which Function will be executed. Actual Argument',\n",
       " '_ii': '## Find out the Factorial of the Number.\\n\\n\\ndef findFactorial(num) :            ## num is written for reference : Formal Argument\\n    fact = 1\\n    for i in range( num , 0, -1 ) : \\n        fact = fact * i\\n        \\n    return fact\\n\\nnum = int( input(\"Write the Number for which Factorial needs to be Found : \") )\\nprint(f\"Factorial of {num} = {findFactorial(num)}\")  # num is the real value on which Function will be executed. Actual Argument',\n",
       " '_iii': 'globals()',\n",
       " '_i1': 'globals()',\n",
       " '_1': {...},\n",
       " '_i2': '## Find out the Factorial of the Number.\\n\\n\\ndef findFactorial(num) :            ## num is written for reference : Formal Argument\\n    fact = 1\\n    for i in range( num , 0, -1 ) : \\n        fact = fact * i\\n        \\n    return fact\\n\\nnum = int( input(\"Write the Number for which Factorial needs to be Found : \") )\\nprint(f\"Factorial of {num} = {findFactorial(num)}\")  # num is the real value on which Function will be executed. Actual Argument',\n",
       " 'findFactorial': <function __main__.findFactorial(x)>,\n",
       " 'num': 10,\n",
       " '_i3': '## Find out the Factorial of the Number.\\n\\n\\ndef findFactorial(x) :            ## x is written for reference : Formal Argument\\n    fact = 1\\n    for i in range( x , 0, -1 ) : \\n        fact = fact * i\\n        \\n    return fact\\n\\nnum = int( input(\"Write the Number for which Factorial needs to be Found : \") )\\nprint(f\"Factorial of {num} = {findFactorial(num)}\")  # num is the real value on which Function will be executed. Actual Argument',\n",
       " '_i4': 'globals()'}"
      ]
     },
     "execution_count": 4,
     "metadata": {},
     "output_type": "execute_result"
    }
   ],
   "source": [
    "globals()"
   ]
  },
  {
   "cell_type": "code",
   "execution_count": null,
   "id": "d7c33522",
   "metadata": {},
   "outputs": [],
   "source": []
  },
  {
   "cell_type": "code",
   "execution_count": 5,
   "id": "37d87f39",
   "metadata": {},
   "outputs": [
    {
     "name": "stdout",
     "output_type": "stream",
     "text": [
      "Write the Number for which Factorial needs to be Found : 10\n",
      "Factorial of 10 = 3628800\n"
     ]
    }
   ],
   "source": [
    "## Find out the Factorial of the Number.\n",
    "\n",
    "\n",
    "def findFactorial(num) :            ## num is written for reference : Formal Argument\n",
    "    fact = 1\n",
    "    for i in range( num , 0, -1 ) : \n",
    "        fact = fact * i\n",
    "        \n",
    "    return fact\n",
    "\n",
    "num = int( input(\"Write the Number for which Factorial needs to be Found : \") )\n",
    "print(f\"Factorial of {num} = {findFactorial(num)}\")  # num is the real value on which Function will be executed. Actual Argument\n"
   ]
  },
  {
   "cell_type": "code",
   "execution_count": 6,
   "id": "0ef9e724",
   "metadata": {},
   "outputs": [
    {
     "name": "stdout",
     "output_type": "stream",
     "text": [
      "True\n",
      "True\n"
     ]
    }
   ],
   "source": [
    "print( \"num\" in globals() )\n",
    "print( \"num\" in locals() )"
   ]
  },
  {
   "cell_type": "code",
   "execution_count": 7,
   "id": "818abde6",
   "metadata": {},
   "outputs": [
    {
     "name": "stdout",
     "output_type": "stream",
     "text": [
      "False\n",
      "False\n"
     ]
    }
   ],
   "source": [
    "print( \"fact\" in globals() )\n",
    "print( \"fact\" in locals() )"
   ]
  },
  {
   "cell_type": "code",
   "execution_count": 8,
   "id": "d55f4ab5",
   "metadata": {},
   "outputs": [
    {
     "ename": "NameError",
     "evalue": "name 'fact' is not defined",
     "output_type": "error",
     "traceback": [
      "\u001b[1;31m---------------------------------------------------------------------------\u001b[0m",
      "\u001b[1;31mNameError\u001b[0m                                 Traceback (most recent call last)",
      "\u001b[1;32m~\\AppData\\Local\\Temp\\ipykernel_26936\\1106486767.py\u001b[0m in \u001b[0;36m<module>\u001b[1;34m\u001b[0m\n\u001b[1;32m----> 1\u001b[1;33m \u001b[0mfact\u001b[0m\u001b[1;33m\u001b[0m\u001b[1;33m\u001b[0m\u001b[0m\n\u001b[0m",
      "\u001b[1;31mNameError\u001b[0m: name 'fact' is not defined"
     ]
    }
   ],
   "source": [
    "fact"
   ]
  },
  {
   "cell_type": "code",
   "execution_count": 9,
   "id": "0afd48a4",
   "metadata": {},
   "outputs": [
    {
     "name": "stdout",
     "output_type": "stream",
     "text": [
      "Write the Number for which Factorial needs to be Found : 10\n",
      "True\n",
      "True\n",
      "False\n",
      "True\n",
      "Factorial of 10 = 3628800\n"
     ]
    }
   ],
   "source": [
    "## Find out the Factorial of the Number.\n",
    "\n",
    "\n",
    "def findFactorial(num) :            ## num is written for reference : Formal Argument\n",
    "    fact = 1\n",
    "    for i in range( num , 0, -1 ) : \n",
    "        fact = fact * i\n",
    "        \n",
    "    print( \"num\" in globals() )\n",
    "    print( \"num\" in locals() )\n",
    "    \n",
    "    print( \"fact\" in globals() )\n",
    "    print( \"fact\" in locals() )\n",
    "        \n",
    "    return fact\n",
    "\n",
    "num = int( input(\"Write the Number for which Factorial needs to be Found : \") )\n",
    "print(f\"Factorial of {num} = {findFactorial(num)}\")  # num is the real value on which Function will be executed. Actual Argument\n"
   ]
  },
  {
   "cell_type": "code",
   "execution_count": null,
   "id": "9a0aa598",
   "metadata": {},
   "outputs": [],
   "source": []
  },
  {
   "cell_type": "code",
   "execution_count": 12,
   "id": "56e512b3",
   "metadata": {},
   "outputs": [],
   "source": [
    "def findFactorial(num) :            ## num is written for reference : Formal Argument\n",
    "    fact = 1\n",
    "    for i in range( num , 0, -1 ) : \n",
    "        fact = fact * i\n",
    "        \n",
    "    return fact\n",
    "\n",
    "## Current Date Time\n",
    "\n",
    "def getSquareroot(x) : \n",
    "    return x ** 0.5\n",
    "    "
   ]
  },
  {
   "cell_type": "code",
   "execution_count": 13,
   "id": "dc3ed208",
   "metadata": {},
   "outputs": [
    {
     "data": {
      "text/plain": [
       "1904.9409439665053"
      ]
     },
     "execution_count": 13,
     "metadata": {},
     "output_type": "execute_result"
    }
   ],
   "source": [
    "getSquareroot( findFactorial(10) )  # "
   ]
  },
  {
   "cell_type": "code",
   "execution_count": 11,
   "id": "f849fa15",
   "metadata": {},
   "outputs": [
    {
     "data": {
      "text/plain": [
       "-225"
      ]
     },
     "execution_count": 11,
     "metadata": {},
     "output_type": "execute_result"
    }
   ],
   "source": [
    "( 25 * (7 - ( 6 + 10 )) )"
   ]
  },
  {
   "cell_type": "code",
   "execution_count": null,
   "id": "ca3328e1",
   "metadata": {},
   "outputs": [],
   "source": []
  },
  {
   "cell_type": "code",
   "execution_count": 14,
   "id": "243f89d7",
   "metadata": {},
   "outputs": [
    {
     "data": {
      "text/plain": [
       "1904.9409439665053"
      ]
     },
     "execution_count": 14,
     "metadata": {},
     "output_type": "execute_result"
    }
   ],
   "source": [
    "def getSquareroot(x) : \n",
    "    return x ** 0.5\n",
    "\n",
    "\n",
    "def findFactorial(num) :            ## num is written for reference : Formal Argument\n",
    "    fact = 1\n",
    "    for i in range( num , 0, -1 ) : \n",
    "        fact = fact * i\n",
    "        \n",
    "    answer = getSquareroot( fact )\n",
    "        \n",
    "    return answer\n",
    "\n",
    "findFactorial( 10 )\n",
    "    "
   ]
  },
  {
   "attachments": {
    "image.png": {
     "image/png": "[encoded data removed]"
    }
   },
   "cell_type": "markdown",
   "id": "6a3d0e43",
   "metadata": {},
   "source": [
    "![image.png](attachment:image.png)"
   ]
  },
  {
   "cell_type": "code",
   "execution_count": null,
   "id": "88e0d72a",
   "metadata": {},
   "outputs": [],
   "source": []
  },
  {
   "cell_type": "code",
   "execution_count": null,
   "id": "a2829375",
   "metadata": {},
   "outputs": [],
   "source": []
  },
  {
   "cell_type": "code",
   "execution_count": null,
   "id": "250ec24c",
   "metadata": {},
   "outputs": [],
   "source": []
  },
  {
   "cell_type": "code",
   "execution_count": null,
   "id": "3bcb46ae",
   "metadata": {},
   "outputs": [],
   "source": []
  }
 ],
 "metadata": {
  "kernelspec": {
   "display_name": "Python 3 (ipykernel)",
   "language": "python",
   "name": "python3"
  },
  "language_info": {
   "codemirror_mode": {
    "name": "ipython",
    "version": 3
   },
   "file_extension": ".py",
   "mimetype": "text/x-python",
   "name": "python",
   "nbconvert_exporter": "python",
   "pygments_lexer": "ipython3",
   "version": "3.9.13"
  }
 },
 "nbformat": 4,
 "nbformat_minor": 5
}
